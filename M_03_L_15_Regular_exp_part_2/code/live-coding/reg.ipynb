{
 "cells": [
  {
   "cell_type": "code",
   "id": "initial_id",
   "metadata": {
    "collapsed": true,
    "ExecuteTime": {
     "end_time": "2025-01-08T17:51:34.279025Z",
     "start_time": "2025-01-08T17:51:34.275963Z"
    }
   },
   "source": "import re",
   "outputs": [],
   "execution_count": 1
  },
  {
   "metadata": {
    "ExecuteTime": {
     "end_time": "2025-01-08T17:51:43.769849Z",
     "start_time": "2025-01-08T17:51:43.766694Z"
    }
   },
   "cell_type": "code",
   "source": [
    "with open('regex-2.txt', 'r') as file:\n",
    "    text = file.read()"
   ],
   "id": "f2ed050526405c99",
   "outputs": [],
   "execution_count": 2
  },
  {
   "metadata": {
    "ExecuteTime": {
     "end_time": "2025-01-08T17:51:44.157004Z",
     "start_time": "2025-01-08T17:51:44.154718Z"
    }
   },
   "cell_type": "code",
   "source": "lines = [line for line in text.split('\\n')]",
   "id": "f5e3b1b478012bb1",
   "outputs": [],
   "execution_count": 3
  },
  {
   "metadata": {
    "ExecuteTime": {
     "end_time": "2025-01-08T17:51:44.635722Z",
     "start_time": "2025-01-08T17:51:44.632606Z"
    }
   },
   "cell_type": "code",
   "source": "lines",
   "id": "fc82c613378dc173",
   "outputs": [
    {
     "data": {
      "text/plain": [
       "['This is #hashtag in text and this is #too12 but not this #32moo',\n",
       " 'These are valid ip addresses 255.23.32.17 and 127.0.0.1 but these are incorrect 256.127.0.1 and 127.43.432.12',\n",
       " 'Строка с   несколькми     пробелами     и       табуляциями подряд.',\n",
       " 'User Anna Gibson with ip address 125.32.43.27 was born at 12.3.1987 and her friend Alex with ip address wes born at 3.10.2015',\n",
       " '']"
      ]
     },
     "execution_count": 4,
     "metadata": {},
     "output_type": "execute_result"
    }
   ],
   "execution_count": 4
  },
  {
   "metadata": {
    "ExecuteTime": {
     "end_time": "2025-01-08T17:51:45.823503Z",
     "start_time": "2025-01-08T17:51:45.820640Z"
    }
   },
   "cell_type": "code",
   "source": "lines[3]",
   "id": "5bf29e1d9a4db425",
   "outputs": [
    {
     "data": {
      "text/plain": [
       "'User Anna Gibson with ip address 125.32.43.27 was born at 12.3.1987 and her friend Alex with ip address wes born at 3.10.2015'"
      ]
     },
     "execution_count": 5,
     "metadata": {},
     "output_type": "execute_result"
    }
   ],
   "execution_count": 5
  },
  {
   "metadata": {
    "ExecuteTime": {
     "end_time": "2025-01-08T17:51:47.832526Z",
     "start_time": "2025-01-08T17:51:47.831028Z"
    }
   },
   "cell_type": "code",
   "source": "",
   "id": "a90a9566eb4338bd",
   "outputs": [],
   "execution_count": null
  },
  {
   "metadata": {
    "ExecuteTime": {
     "end_time": "2025-01-08T17:51:48.385472Z",
     "start_time": "2025-01-08T17:51:48.286495Z"
    }
   },
   "cell_type": "code",
   "source": "from deeppavlov import build_model",
   "id": "cd659c71eba225fa",
   "outputs": [
    {
     "ename": "ModuleNotFoundError",
     "evalue": "No module named 'deeppavlov'",
     "output_type": "error",
     "traceback": [
      "\u001B[0;31m---------------------------------------------------------------------------\u001B[0m",
      "\u001B[0;31mModuleNotFoundError\u001B[0m                       Traceback (most recent call last)",
      "Cell \u001B[0;32mIn[6], line 1\u001B[0m\n\u001B[0;32m----> 1\u001B[0m \u001B[38;5;28;01mfrom\u001B[39;00m \u001B[38;5;21;01mdeeppavlov\u001B[39;00m \u001B[38;5;28;01mimport\u001B[39;00m build_model\n",
      "\u001B[0;31mModuleNotFoundError\u001B[0m: No module named 'deeppavlov'"
     ]
    }
   ],
   "execution_count": 6
  },
  {
   "metadata": {
    "ExecuteTime": {
     "end_time": "2024-09-18T11:08:42.287099Z",
     "start_time": "2024-09-18T11:08:42.284212Z"
    }
   },
   "cell_type": "code",
   "source": [
    "with open('regex-2.txt', 'r') as file:\n",
    "    text = file.read()"
   ],
   "id": "d92abc659bb94c89",
   "outputs": [],
   "execution_count": 2
  },
  {
   "metadata": {
    "ExecuteTime": {
     "end_time": "2024-09-18T11:09:03.216610Z",
     "start_time": "2024-09-18T11:08:50.505069Z"
    }
   },
   "cell_type": "code",
   "source": "ner_model = build_model('ner_ontonotes_bert', download=True, install=True)",
   "id": "cdf72ef5f6685300",
   "outputs": [
    {
     "name": "stdout",
     "output_type": "stream",
     "text": [
      "Requirement already satisfied: sentencepiece==0.2.0 in /Users/stureiko/miniforge3/envs/starta/lib/python3.10/site-packages (0.2.0)\n",
      "Ignoring transformers: markers 'python_version < \"3.8\"' don't match your environment\n",
      "Requirement already satisfied: transformers==4.30.0 in /Users/stureiko/miniforge3/envs/starta/lib/python3.10/site-packages (4.30.0)\n",
      "Requirement already satisfied: filelock in /Users/stureiko/miniforge3/envs/starta/lib/python3.10/site-packages (from transformers==4.30.0) (3.9.1)\n",
      "Requirement already satisfied: huggingface-hub<1.0,>=0.14.1 in /Users/stureiko/miniforge3/envs/starta/lib/python3.10/site-packages (from transformers==4.30.0) (0.25.0)\n",
      "Requirement already satisfied: numpy>=1.17 in /Users/stureiko/miniforge3/envs/starta/lib/python3.10/site-packages (from transformers==4.30.0) (1.23.5)\n",
      "Requirement already satisfied: packaging>=20.0 in /Users/stureiko/miniforge3/envs/starta/lib/python3.10/site-packages (from transformers==4.30.0) (24.0)\n",
      "Requirement already satisfied: pyyaml>=5.1 in /Users/stureiko/miniforge3/envs/starta/lib/python3.10/site-packages (from transformers==4.30.0) (6.0.1)\n",
      "Requirement already satisfied: regex!=2019.12.17 in /Users/stureiko/miniforge3/envs/starta/lib/python3.10/site-packages (from transformers==4.30.0) (2024.9.11)\n",
      "Requirement already satisfied: requests in /Users/stureiko/miniforge3/envs/starta/lib/python3.10/site-packages (from transformers==4.30.0) (2.31.0)\n",
      "Requirement already satisfied: tokenizers!=0.11.3,<0.14,>=0.11.1 in /Users/stureiko/miniforge3/envs/starta/lib/python3.10/site-packages (from transformers==4.30.0) (0.13.3)\n",
      "Requirement already satisfied: safetensors>=0.3.1 in /Users/stureiko/miniforge3/envs/starta/lib/python3.10/site-packages (from transformers==4.30.0) (0.4.5)\n",
      "Requirement already satisfied: tqdm>=4.27 in /Users/stureiko/miniforge3/envs/starta/lib/python3.10/site-packages (from transformers==4.30.0) (4.64.1)\n",
      "Requirement already satisfied: fsspec>=2023.5.0 in /Users/stureiko/miniforge3/envs/starta/lib/python3.10/site-packages (from huggingface-hub<1.0,>=0.14.1->transformers==4.30.0) (2024.9.0)\n",
      "Requirement already satisfied: typing-extensions>=3.7.4.3 in /Users/stureiko/miniforge3/envs/starta/lib/python3.10/site-packages (from huggingface-hub<1.0,>=0.14.1->transformers==4.30.0) (4.11.0)\n",
      "Requirement already satisfied: charset-normalizer<4,>=2 in /Users/stureiko/miniforge3/envs/starta/lib/python3.10/site-packages (from requests->transformers==4.30.0) (3.3.2)\n",
      "Requirement already satisfied: idna<4,>=2.5 in /Users/stureiko/miniforge3/envs/starta/lib/python3.10/site-packages (from requests->transformers==4.30.0) (3.7)\n",
      "Requirement already satisfied: urllib3<3,>=1.21.1 in /Users/stureiko/miniforge3/envs/starta/lib/python3.10/site-packages (from requests->transformers==4.30.0) (2.2.1)\n",
      "Requirement already satisfied: certifi>=2017.4.17 in /Users/stureiko/miniforge3/envs/starta/lib/python3.10/site-packages (from requests->transformers==4.30.0) (2024.7.4)\n",
      "Requirement already satisfied: torch<1.14.0,>=1.6.0 in /Users/stureiko/miniforge3/envs/starta/lib/python3.10/site-packages (1.13.1)\n",
      "Requirement already satisfied: typing-extensions in /Users/stureiko/miniforge3/envs/starta/lib/python3.10/site-packages (from torch<1.14.0,>=1.6.0) (4.11.0)\n",
      "Requirement already satisfied: protobuf<=3.20 in /Users/stureiko/miniforge3/envs/starta/lib/python3.10/site-packages (3.20.0)\n",
      "Requirement already satisfied: pytorch-crf==0.7.* in /Users/stureiko/miniforge3/envs/starta/lib/python3.10/site-packages (0.7.2)\n"
     ]
    },
    {
     "name": "stderr",
     "output_type": "stream",
     "text": [
      "2024-09-18 14:08:59.212 INFO in 'deeppavlov.download'['download'] at line 138: Skipped http://files.deeppavlov.ai/v1/ner/ner_ontonotes_bert_torch_crf.tar.gz download because of matching hashes\n",
      "/Users/stureiko/miniforge3/envs/starta/lib/python3.10/site-packages/huggingface_hub/file_download.py:1142: FutureWarning: `resume_download` is deprecated and will be removed in version 1.0.0. Downloads always resume when possible. If you want to force a new download, use `force_download=True`.\n",
      "  warnings.warn(\n",
      "Some weights of the model checkpoint at bert-base-cased were not used when initializing BertForTokenClassification: ['cls.predictions.transform.LayerNorm.weight', 'cls.predictions.transform.LayerNorm.bias', 'cls.predictions.transform.dense.bias', 'cls.predictions.transform.dense.weight', 'cls.seq_relationship.weight', 'cls.predictions.bias', 'cls.seq_relationship.bias']\n",
      "- This IS expected if you are initializing BertForTokenClassification from the checkpoint of a model trained on another task or with another architecture (e.g. initializing a BertForSequenceClassification model from a BertForPreTraining model).\n",
      "- This IS NOT expected if you are initializing BertForTokenClassification from the checkpoint of a model that you expect to be exactly identical (initializing a BertForSequenceClassification model from a BertForSequenceClassification model).\n",
      "Some weights of BertForTokenClassification were not initialized from the model checkpoint at bert-base-cased and are newly initialized: ['classifier.bias', 'classifier.weight']\n",
      "You should probably TRAIN this model on a down-stream task to be able to use it for predictions and inference.\n",
      "2024-09-18 14:09:01.933 WARNING in 'deeppavlov.core.models.torch_model'['torch_model'] at line 96: Unable to place component TorchTransformersSequenceTagger on GPU, since no CUDA GPUs are available. Using CPU.\n"
     ]
    }
   ],
   "execution_count": 3
  },
  {
   "metadata": {
    "ExecuteTime": {
     "end_time": "2024-09-18T11:09:10.047568Z",
     "start_time": "2024-09-18T11:09:09.944373Z"
    }
   },
   "cell_type": "code",
   "source": "tokens, tags = ner_model([text])",
   "id": "f4c49a9ed9e8bce1",
   "outputs": [
    {
     "name": "stderr",
     "output_type": "stream",
     "text": [
      "/Users/stureiko/miniforge3/envs/starta/lib/python3.10/site-packages/torchcrf/__init__.py:305: UserWarning: where received a uint8 condition tensor. This behavior is deprecated and will be removed in a future version of PyTorch. Use a boolean condition instead. (Triggered internally at /Users/runner/work/pytorch/pytorch/pytorch/aten/src/ATen/native/TensorCompare.cpp:413.)\n",
      "  score = torch.where(mask[i].unsqueeze(1), next_score, score)\n"
     ]
    }
   ],
   "execution_count": 4
  },
  {
   "metadata": {
    "ExecuteTime": {
     "end_time": "2024-09-18T11:12:04.960756Z",
     "start_time": "2024-09-18T11:12:04.956618Z"
    }
   },
   "cell_type": "code",
   "source": [
    "for i, tag in enumerate(tags[0]):\n",
    "    if (tag=='B-PERSON') or (tag == 'I-PERSON'):\n",
    "        print(tokens[0][i], tag)"
   ],
   "id": "fb3054529df7871e",
   "outputs": [
    {
     "name": "stdout",
     "output_type": "stream",
     "text": [
      "Anna B-PERSON\n",
      "Gibson I-PERSON\n",
      "Alex B-PERSON\n"
     ]
    }
   ],
   "execution_count": 9
  },
  {
   "metadata": {},
   "cell_type": "code",
   "outputs": [],
   "execution_count": null,
   "source": "",
   "id": "ccff90f43c18737d"
  }
 ],
 "metadata": {
  "kernelspec": {
   "display_name": "Python 3",
   "language": "python",
   "name": "python3"
  },
  "language_info": {
   "codemirror_mode": {
    "name": "ipython",
    "version": 2
   },
   "file_extension": ".py",
   "mimetype": "text/x-python",
   "name": "python",
   "nbconvert_exporter": "python",
   "pygments_lexer": "ipython2",
   "version": "2.7.6"
  }
 },
 "nbformat": 4,
 "nbformat_minor": 5
}
